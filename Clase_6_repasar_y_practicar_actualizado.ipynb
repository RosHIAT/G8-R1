{
  "nbformat": 4,
  "nbformat_minor": 0,
  "metadata": {
    "colab": {
      "provenance": [],
      "include_colab_link": true
    },
    "kernelspec": {
      "name": "python3",
      "display_name": "Python 3"
    },
    "language_info": {
      "name": "python"
    }
  },
  "cells": [
    {
      "cell_type": "markdown",
      "metadata": {
        "id": "view-in-github",
        "colab_type": "text"
      },
      "source": [
        "<a href=\"https://colab.research.google.com/github/RosHIAT/G8-R1/blob/main/Clase_6_repasar_y_practicar_actualizado.ipynb\" target=\"_parent\"><img src=\"https://colab.research.google.com/assets/colab-badge.svg\" alt=\"Open In Colab\"/></a>"
      ]
    },
    {
      "cell_type": "markdown",
      "source": [
        "# 1. Introducción a Clases y Objetos\n",
        "\n",
        "- En Python, las clases son plantillas para crear objetos.\n",
        "\n",
        "- Los objetos son instancias de clases que encapsulan datos y funcionalidades.\n",
        "\n"
      ],
      "metadata": {
        "id": "HV48yKnLgk7p"
      }
    },
    {
      "cell_type": "markdown",
      "source": [
        "Las clases son como \"moldes\" para crear objetos. Definen la estructura y el comportamiento que tendrán los objetos creados a partir de ellas. Los objetos son instancias específicas de una clase."
      ],
      "metadata": {
        "id": "sy7CAnTHiueb"
      }
    },
    {
      "cell_type": "code",
      "execution_count": null,
      "metadata": {
        "id": "yaQTKHDmforr"
      },
      "outputs": [],
      "source": [
        "class Producto:\n",
        "    \"\"\"\n",
        "    Clase que representa un producto en la tiend electronica\n",
        "\n",
        "    Esta clase introduce el concepto basico de clases y objetos\n",
        "    \"\"\"\n",
        "    def __init__(self, nombre, precio):     # este metodo se llama constructor\n",
        "        \"\"\"\"\n",
        "        Constructor de la clase Producto\n",
        "\n",
        "        Args:\n",
        "            nombre (str): Nombre del producto\n",
        "            precio (float): Precio del producto\n",
        "        \"\"\"\n",
        "        self.nombre = nombre\n",
        "        self.precio = precio\n",
        "\n",
        "    def mostrar_info(self): # esto es un metodo\n",
        "        \"\"\"\n",
        "        Muestra la informacion basica del producto\n",
        "        \"\"\"\n",
        "\n",
        "        print(f\"Nombre: {self.nombre}, Precio: {self.precio}\")\n",
        "\n"
      ]
    },
    {
      "cell_type": "code",
      "source": [
        "telefono = Producto(\"Samsung\", 500)\n",
        "# objeto.metodo()\n",
        "telefono.mostrar_info()\n",
        "# objeto.atributo\n",
        "telefono.nombre = \"Iphone\"\n",
        "telefono.mostrar_info()\n",
        "print(telefono.nombre)\n",
        "print(telefono.precio)\n"
      ],
      "metadata": {
        "colab": {
          "base_uri": "https://localhost:8080/"
        },
        "id": "3TYguNN3i5Mm",
        "outputId": "c30a4ca3-a5f8-47e7-c4d7-de4aa43b1e03"
      },
      "execution_count": null,
      "outputs": [
        {
          "output_type": "stream",
          "name": "stdout",
          "text": [
            "Nombre: Samsung, Precio: 500\n",
            "Nombre: Iphone, Precio: 500\n",
            "Iphone\n",
            "500\n"
          ]
        }
      ]
    },
    {
      "cell_type": "code",
      "source": [
        "celular = Producto(\"Xiaomi\", 400)\n",
        "celular.mostrar_info()"
      ],
      "metadata": {
        "colab": {
          "base_uri": "https://localhost:8080/"
        },
        "id": "PfIGOSea_Xmi",
        "outputId": "1d279eb7-1f7e-4705-a94f-893a25eaaf61"
      },
      "execution_count": null,
      "outputs": [
        {
          "output_type": "stream",
          "name": "stdout",
          "text": [
            "Nombre: Xiaomi, Precio: 400\n"
          ]
        }
      ]
    },
    {
      "cell_type": "markdown",
      "source": [
        "# 2. Atributos y Métodos\n",
        "- Los atributos son variables que pertenecen a una clase o a una instancia de la clase.\n",
        "- Los métodos son funciones que pertenecen a una clase y definen su comportamiento."
      ],
      "metadata": {
        "id": "GzeBPfX0jbs-"
      }
    },
    {
      "cell_type": "code",
      "source": [
        "class Producto:\n",
        "    \"\"\"\n",
        "    Clase que representa un producto en la tienda electrónica.\n",
        "\n",
        "    Esta version incluye atributos y un metodo para mostrar la informacion del producto.\n",
        "\n",
        "    Tambien incluye atributos y metodos privados\n",
        "    \"\"\"\n",
        "    def __init__(self, nombre, precio, costo):\n",
        "        self.nombre = nombre    # atributo publico\n",
        "        self._precio = precio   # atributo protegido (por convencion llevan _ adelante del atributo)\n",
        "        self.__costo = costo      # atributo privado (por convencion llevan __ adelante del atributo)\n",
        "\n",
        "    def mostrar_info(self):\n",
        "        \"\"\"\n",
        "        Muestra la informacion basica del producto.\n",
        "        metodo publico\n",
        "        \"\"\"\n",
        "        print(f\"Nombre: {self.nombre}, Precio: ${self._precio} \")\n",
        "\n",
        "    def _calcular_margen(self):\n",
        "        \"\"\"\n",
        "        Metodo protegido para calcular el margen de ganacia\n",
        "\n",
        "        se usa con _nombre_metodo para indicar que es de uso interno\n",
        "        \"\"\"\n",
        "\n",
        "        return self._precio - self.__costo\n",
        "\n",
        "    def obtener_margen(self):\n",
        "        \"\"\"\n",
        "        Metodo publico para obtener el margen de ganancia\n",
        "        \"\"\"\n",
        "        return self._calcular_margen()\n"
      ],
      "metadata": {
        "id": "_Hgl9t2AzPf-"
      },
      "execution_count": null,
      "outputs": []
    },
    {
      "cell_type": "code",
      "source": [
        "telefono = Producto(\"Smartphone\", 600, 400)\n",
        "telefono.mostrar_info()\n",
        "\n",
        "print(f\"Calcular el margen de ganancia: $ {telefono.obtener_margen()}\")"
      ],
      "metadata": {
        "colab": {
          "base_uri": "https://localhost:8080/"
        },
        "id": "e9JQ-a6NCSnW",
        "outputId": "1f188f36-8d3f-4c86-ff94-87bb4fbf6813"
      },
      "execution_count": null,
      "outputs": [
        {
          "output_type": "stream",
          "name": "stdout",
          "text": [
            "Nombre: Smartphone, Precio: $600 \n",
            "Calcular el margen de ganancia: $ 200\n"
          ]
        }
      ]
    },
    {
      "cell_type": "markdown",
      "source": [
        "# 3. Herencia (simple y múltiple)"
      ],
      "metadata": {
        "id": "WT8z5noPzP6b"
      }
    },
    {
      "cell_type": "markdown",
      "source": [
        "La herencia permite crear nuevas clases basadas en clases existentes, heredando sus atributos y métodos."
      ],
      "metadata": {
        "id": "Q3tMrpWuzU2M"
      }
    },
    {
      "cell_type": "code",
      "source": [
        "class Electronico(Producto):\n",
        "    \"\"\"\n",
        "    Clase que representa un producto electronico, heredado de producto\n",
        "\n",
        "    Esta clase demuestra la herencia simple\n",
        "    \"\"\"\n",
        "\n",
        "    def __init__(self, nombre, precio, costo, marca):\n",
        "        super().__init__(nombre, precio, costo)   # la herencia se aplica  con super()\n",
        "        self.marca = marca\n",
        "\n",
        "    def mostrar_info(self):\n",
        "        \"\"\"\n",
        "        Muestra la informacion del producto electronico\n",
        "\n",
        "        sobrescribe el metodo de la clase padre\n",
        "        \"\"\"\n",
        "        super().mostrar_info()  # aplico la herencia al metodo mostrar_info del padre\n",
        "        print(f\"Marca: {self.marca}\")\n",
        "\n",
        "class ConBateria:\n",
        "    \"\"\"\n",
        "    clase que representa un dispositivo con bateria\n",
        "    \"\"\"\n",
        "\n",
        "    def __init__(self, capacidad_bateria):\n",
        "        self.capacidad_bateria = capacidad_bateria\n",
        "\n",
        "    def info_bateria(self):\n",
        "        print(f\"Capacidad de bateria: {self.capacidad_bateria} mAh\")\n",
        "\n",
        "\n",
        "class Smartphone(Electronico, ConBateria):\n",
        "    \"\"\"\n",
        "    Clase que representa un smartphone, heredado de producto y ConBateria\n",
        "\n",
        "    Esta clase demuestra la herencia multiple\n",
        "    \"\"\"\n",
        "\n",
        "    def __init__(self, nombre, precio, costo, marca, capacidad_bateria, sistema_operativo):\n",
        "        # se hereda pero no se usa super(), entonces se hereda clase_hijo.constructor_del_padre()\n",
        "        Electronico.__init__(self, nombre, precio, costo, marca)\n",
        "        ConBateria.__init__(self, capacidad_bateria)\n",
        "        self.sistema_operativo = sistema_operativo\n",
        "\n",
        "    def mostrar_info(self):\n",
        "        \"\"\"\n",
        "        Muestra la informacion del smartphone\n",
        "\n",
        "        sobrescribe el metodo de la clase padre\n",
        "        \"\"\"\n",
        "        super().mostrar_info()\n",
        "        print(self.info_bateria())\n",
        "        print(f\"Sistema Operativo: {self.sistema_operativo}\")\n",
        "\n"
      ],
      "metadata": {
        "id": "_Qsjb_VSzVAL"
      },
      "execution_count": null,
      "outputs": []
    },
    {
      "cell_type": "code",
      "source": [
        "laptop = Electronico(\"Laptop\", 1000, 500, \"HP\")\n",
        "laptop.mostrar_info()"
      ],
      "metadata": {
        "colab": {
          "base_uri": "https://localhost:8080/"
        },
        "id": "M_k_RCAtJKjU",
        "outputId": "18031b4e-fdf1-4f34-efcf-d768f2061e24"
      },
      "execution_count": null,
      "outputs": [
        {
          "output_type": "stream",
          "name": "stdout",
          "text": [
            "Nombre: Laptop, Precio: $1000 \n",
            "Marca: HP\n"
          ]
        }
      ]
    },
    {
      "cell_type": "code",
      "source": [
        "smartphone = Smartphone(\"Galaxy S21\", 800, 400, \"Samsung\", 5000, \"Android\")\n",
        "smartphone.mostrar_info()"
      ],
      "metadata": {
        "colab": {
          "base_uri": "https://localhost:8080/"
        },
        "id": "_yyMZKAHJKgH",
        "outputId": "7dc2818d-eec7-4097-fba4-a021e3f62087"
      },
      "execution_count": null,
      "outputs": [
        {
          "output_type": "stream",
          "name": "stdout",
          "text": [
            "Nombre: Galaxy S21, Precio: $800 \n",
            "Marca: Samsung\n",
            "Capacidad de bateria: 5000 mAh\n",
            "None\n",
            "Sistema Operativo: Android\n"
          ]
        }
      ]
    },
    {
      "cell_type": "markdown",
      "source": [
        "# 4. Polimorfismo"
      ],
      "metadata": {
        "id": "JiuElS91zXCS"
      }
    },
    {
      "cell_type": "markdown",
      "source": [
        "El polimorfismo permite que objetos de diferentes clases se comporten de manera similar, lo que facilita la creación de interfaces coherentes."
      ],
      "metadata": {
        "id": "Nd2WTR3xzY47"
      }
    },
    {
      "cell_type": "code",
      "source": [
        "class Inventario:\n",
        "    \"\"\"\n",
        "    Clase que representa un inventario de la tienda\n",
        "\n",
        "    Esta clase demuestra el polimorfismo a traves del metodo agregar producto\n",
        "    \"\"\"\n",
        "\n",
        "    def __init__(self):\n",
        "        self.productos = []   # lista vacia de productos (lista de objetos)\n",
        "\n",
        "    def agregar_producto(self, producto):\n",
        "        \"\"\"\n",
        "        Agrega un producto al inventario\n",
        "\n",
        "        Ese metodo es polimortfico ya que puede aceptar cualquier objeto que\n",
        "        que tenga un metodo mostrar_info()\n",
        "\n",
        "        Args:\n",
        "            producto (Producto): Producto a agregar (es el objeto)\n",
        "        \"\"\"\n",
        "        self.productos.append(producto)   # la lista productos se le agrega un elemento\n",
        "        print(f\"Se agrego el producto {producto.nombre} al inventario\")\n",
        "        producto.mostrar_info()\n",
        "\n",
        "    def mostrar_inventario(self):\n",
        "        \"\"\"\n",
        "        Muestra la informacion de todos los productos en el inventario\n",
        "        \"\"\"\n",
        "        print(\"Inventario actual:\")\n",
        "        for producto in self.productos:\n",
        "            producto.mostrar_info()\n",
        "            print(\"----\")"
      ],
      "metadata": {
        "id": "xcvEuygkzY_B"
      },
      "execution_count": null,
      "outputs": []
    },
    {
      "cell_type": "code",
      "source": [
        "inventario = Inventario()"
      ],
      "metadata": {
        "id": "zY145PY-MVhx"
      },
      "execution_count": null,
      "outputs": []
    },
    {
      "cell_type": "code",
      "source": [
        "# agregar productos diferentes\n",
        "inventario.agregar_producto(Producto(\"CAble HDMI\", 19.99,5))\n",
        "inventario.agregar_producto(laptop)\n",
        "inventario.agregar_producto(smartphone)\n",
        "inventario.agregar_producto(Electronico(\"Tablet\", 299.99,150, \"TabletCo\"))\n",
        "inventario.agregar_producto(Smartphone(\"Iphone12\", 999.99,600, \"Apple\",3000,\"ios\"))"
      ],
      "metadata": {
        "colab": {
          "base_uri": "https://localhost:8080/"
        },
        "id": "-4PWvmyYMVyC",
        "outputId": "58be0b81-580e-4e62-cd7d-7541250ce3e6"
      },
      "execution_count": null,
      "outputs": [
        {
          "output_type": "stream",
          "name": "stdout",
          "text": [
            "Se agrego el producto CAble HDMI al inventario\n",
            "Nombre: CAble HDMI, Precio: $19.99 \n",
            "Se agrego el producto Laptop al inventario\n",
            "Nombre: Laptop, Precio: $1000 \n",
            "Marca: HP\n",
            "Se agrego el producto Galaxy S21 al inventario\n",
            "Nombre: Galaxy S21, Precio: $800 \n",
            "Marca: Samsung\n",
            "Capacidad de bateria: 5000 mAh\n",
            "None\n",
            "Sistema Operativo: Android\n",
            "Se agrego el producto Tablet al inventario\n",
            "Nombre: Tablet, Precio: $299.99 \n",
            "Marca: TabletCo\n",
            "Se agrego el producto Iphone12 al inventario\n",
            "Nombre: Iphone12, Precio: $999.99 \n",
            "Marca: Apple\n",
            "Capacidad de bateria: 3000 mAh\n",
            "None\n",
            "Sistema Operativo: ios\n"
          ]
        }
      ]
    },
    {
      "cell_type": "code",
      "source": [
        "inventario.mostrar_inventario()"
      ],
      "metadata": {
        "colab": {
          "base_uri": "https://localhost:8080/"
        },
        "id": "YeQEjR55NjvJ",
        "outputId": "136d66a2-b1da-4109-f1e3-36db0a269a95"
      },
      "execution_count": null,
      "outputs": [
        {
          "output_type": "stream",
          "name": "stdout",
          "text": [
            "Inventario actual:\n",
            "Nombre: CAble HDMI, Precio: $19.99 \n",
            "----\n",
            "Nombre: Laptop, Precio: $1000 \n",
            "Marca: HP\n",
            "----\n",
            "Nombre: Galaxy S21, Precio: $800 \n",
            "Marca: Samsung\n",
            "Capacidad de bateria: 5000 mAh\n",
            "None\n",
            "Sistema Operativo: Android\n",
            "----\n",
            "Nombre: Tablet, Precio: $299.99 \n",
            "Marca: TabletCo\n",
            "----\n",
            "Nombre: Iphone12, Precio: $999.99 \n",
            "Marca: Apple\n",
            "Capacidad de bateria: 3000 mAh\n",
            "None\n",
            "Sistema Operativo: ios\n",
            "----\n"
          ]
        }
      ]
    },
    {
      "cell_type": "markdown",
      "source": [
        "# 5. Encapsulación"
      ],
      "metadata": {
        "id": "WV4WvN49zayP"
      }
    },
    {
      "cell_type": "markdown",
      "source": [
        "La encapsulación implica ocultar los detalles internos de una clase y proporcionar una interfaz para interactuar con ella."
      ],
      "metadata": {
        "id": "yroPr-YezdBv"
      }
    },
    {
      "cell_type": "code",
      "source": [
        "# actualizar la clase producto\n",
        "class Producto:\n",
        "    \"\"\"\n",
        "    Clase que representa un producto en la tienda electrónica.\n",
        "\n",
        "    Esta version demuestra la encapsulacion completa de atributos\n",
        "    \"\"\"\n",
        "\n",
        "    def __init__(self, nombre, precio, costo):\n",
        "        # atributos privados\n",
        "        self.__nombre = nombre\n",
        "        self.__precio = precio\n",
        "        self.__costo = costo\n",
        "\n",
        "    @property\n",
        "    def nombre(self):\n",
        "        \"\"\"\n",
        "        Decorador @property: convierte el metodo en una propiedad de solo elctura\n",
        "                            Permite acceder al atributo privado __nombre como si fuera publico\n",
        "\n",
        "        Obtiene el nombre del producto.\n",
        "\n",
        "        Returns:\n",
        "            str: Nombre del producto.\n",
        "        \"\"\"\n",
        "        return self.__nombre\n",
        "\n",
        "    @nombre.setter\n",
        "    def nombre(self, nuevo_nombre):\n",
        "        \"\"\"\n",
        "        Decorador @nombre.setter: convierte el metodo en un setter para el atributo privado __nombre\n",
        "        permite asignar un valor al atributo privado __nombre, como si fuese publico\n",
        "\n",
        "        Establece el nombre del producto.\n",
        "\n",
        "        Args:\n",
        "            nuevo_nombre (str): Nuevo nombre del producto.\n",
        "        \"\"\"\n",
        "        if isinstance(nuevo_nombre, str) and nuevo_nombre.strip():\n",
        "            self.__nombre = nuevo_nombre\n",
        "        else:\n",
        "            raise ValueError(\"El nombre debe ser una cadena no vacia\")\n",
        "\n",
        "    @property\n",
        "    def precio(self):\n",
        "\n",
        "        return self.__precio\n",
        "\n",
        "    @nombre.setter\n",
        "    def precio(self, nuevo_precio):\n",
        "        if isinstance(nuevo_precio, (int, float)) and nuevo_precio>0:\n",
        "            self.__precio = nuevo_precio\n",
        "        else:\n",
        "            raise ValueError(\"El precio debe ser un valor positivo\")\n",
        "\n",
        "    def mostrar_info(self):\n",
        "        \"\"\"\n",
        "        Muestra la informacion basica del producto.\n",
        "        \"\"\"\n",
        "        print(f\"Nombre: {self.__nombre}, Precio: ${self.__precio}\")\n",
        "\n",
        "    def _calcular_margen(self):\n",
        "        \"\"\"\n",
        "        Metodo protegido para calcular el margen de ganancia\n",
        "\n",
        "        se usa con _nombre_metodo para indicar que es de uso interno\n",
        "        \"\"\"\n",
        "\n",
        "        return self.__precio - self.__costo\n",
        "\n",
        "    def obtener_margen(self):\n",
        "        \"\"\"\n",
        "        Metodo publico para obtener el margen de ganancia\n",
        "        \"\"\"\n",
        "        return self._calcular_margen()"
      ],
      "metadata": {
        "id": "tFti5DGLzdTT"
      },
      "execution_count": null,
      "outputs": []
    },
    {
      "cell_type": "code",
      "source": [
        "producto = Producto(\"Teclado\", 49.90,20)\n",
        "producto.mostrar_info()"
      ],
      "metadata": {
        "colab": {
          "base_uri": "https://localhost:8080/"
        },
        "id": "ex_NJQeeRCoh",
        "outputId": "85cd41fb-8289-445e-e9a6-c9a3e00e576a"
      },
      "execution_count": null,
      "outputs": [
        {
          "output_type": "stream",
          "name": "stdout",
          "text": [
            "Nombre: Teclado, Precio: $49.9\n"
          ]
        }
      ]
    },
    {
      "cell_type": "code",
      "source": [
        "producto.nombre = \"Mouse\"\n",
        "producto.mostrar_info()\n",
        "print(producto.nombre)"
      ],
      "metadata": {
        "colab": {
          "base_uri": "https://localhost:8080/"
        },
        "id": "BZWdku0tROLs",
        "outputId": "55e42e2e-8e3c-4cf6-a0ed-09a6fae80082"
      },
      "execution_count": null,
      "outputs": [
        {
          "output_type": "stream",
          "name": "stdout",
          "text": [
            "Nombre: Mouse, Precio: $49.9\n",
            "Mouse\n"
          ]
        }
      ]
    },
    {
      "cell_type": "markdown",
      "source": [
        "#  6. Composición"
      ],
      "metadata": {
        "id": "yaQt9FCKzfid"
      }
    },
    {
      "cell_type": "markdown",
      "source": [
        "La composición implica crear objetos complejos combinando objetos más simples."
      ],
      "metadata": {
        "id": "inH4vYNOzg7l"
      }
    },
    {
      "cell_type": "code",
      "source": [
        "class Tienda:\n",
        "    \"\"\"\n",
        "    Clase que representa una tienda electronica\n",
        "\n",
        "    Esta clase demuestra el concepto de composicion,\n",
        "    ya que una tienda esta compuesta por un inventario y otros componentes.\n",
        "    \"\"\"\n",
        "    def __init__(self, nombre):\n",
        "        # inicializamos el nombrte de la tienda\n",
        "        self.nombre = nombre\n",
        "        # creamos una instancia de inventario => es es composicion\n",
        "        self.inventario = Inventario()\n",
        "        # inicializamos una lista vacia para almacenar la venta\n",
        "        self.ventas = []\n",
        "\n",
        "    def agregar_producto(self, producto):\n",
        "        \"\"\"\n",
        "        Agrega un producto al inventario de la tienda\n",
        "\n",
        "        Args:\n",
        "            producto (Producto): Producto a agregar\n",
        "        \"\"\"\n",
        "        self.inventario.agregar_producto(producto)\n",
        "\n",
        "    def realizar_venta(self, producto, cantidad):\n",
        "        \"\"\"\n",
        "        Realiza una venta de un producto en la tienda\n",
        "\n",
        "        Args:\n",
        "            producto (Producto): Producto a vender\n",
        "            cantidad (int): Cantidad de productos a vender\n",
        "        \"\"\"\n",
        "\n",
        "        #  verificamos si el prosducto esta en el inventario\n",
        "        if producto in self.inventario.productos:\n",
        "            # crea una tupla  que represente la venta\n",
        "            venta = (producto, cantidad)\n",
        "            # agregamos la venta a la lista de ventas\n",
        "            self.ventas.append(venta)\n",
        "            # imprimimos un mensaje de conbfirmacion\n",
        "            print(f\"venta realizad: {cantidad} x {producto.nombre}\")\n",
        "        else:\n",
        "            print(f\"El producto {producto.nombre} no esta disponible en el inventario\")\n",
        "\n",
        "\n",
        "    def mostrar_ventas(self):\n",
        "        \"\"\"\n",
        "        Muestra la informacion de las ventas realizadas en la tienda\n",
        "        \"\"\"\n",
        "        print(f\"Ventas de {self.nombre}:\")\n",
        "        for venta in self.ventas:\n",
        "            producto, cantidad = venta\n",
        "            print(f\"{cantidad} x {producto.nombre}-${producto.precio * cantidad}\")\n"
      ],
      "metadata": {
        "id": "X7P3JHzizhAo"
      },
      "execution_count": null,
      "outputs": []
    },
    {
      "cell_type": "code",
      "source": [
        "tienda = Tienda(\"ElectroTech\")"
      ],
      "metadata": {
        "id": "6SAD1mYSGJkd"
      },
      "execution_count": null,
      "outputs": []
    },
    {
      "cell_type": "code",
      "source": [
        "# agregar productos al inventario de la tienda\n",
        "tienda.agregar_producto(Producto(\"Smartphone\", 800, 400))\n",
        "tienda.agregar_producto(Electronico(\"Tablet\", 300.00, 150, \"TabletCo\"))\n",
        "tienda.agregar_producto(Smartphone(\"Iphone12\", 999.99,600, \"Apple\",3000,\"ios\"))"
      ],
      "metadata": {
        "colab": {
          "base_uri": "https://localhost:8080/"
        },
        "id": "xqkXKI2lGSK3",
        "outputId": "249d9b42-5495-46a6-c3d4-cfef44bb71a9"
      },
      "execution_count": null,
      "outputs": [
        {
          "output_type": "stream",
          "name": "stdout",
          "text": [
            "Se agrego el producto Smartphone al inventario\n",
            "Nombre: Smartphone, Precio: $800\n",
            "Se agrego el producto Tablet al inventario\n",
            "Nombre: Tablet, Precio: $300.0\n",
            "Marca: TabletCo\n",
            "Se agrego el producto Iphone12 al inventario\n",
            "Nombre: Iphone12, Precio: $999.99\n",
            "Marca: Apple\n",
            "Capacidad de bateria: 3000 mAh\n",
            "None\n",
            "Sistema Operativo: ios\n"
          ]
        }
      ]
    },
    {
      "cell_type": "code",
      "source": [
        "tienda.realizar_venta(tienda.inventario.productos[0], 2)"
      ],
      "metadata": {
        "colab": {
          "base_uri": "https://localhost:8080/"
        },
        "id": "QjEnj1LDHgj9",
        "outputId": "ab7c43cc-1a0f-4736-8d95-a266d51d812a"
      },
      "execution_count": null,
      "outputs": [
        {
          "output_type": "stream",
          "name": "stdout",
          "text": [
            "venta realizad: 2 x Smartphone\n"
          ]
        }
      ]
    },
    {
      "cell_type": "code",
      "source": [
        "tienda.realizar_venta(tienda.inventario.productos[2], 1)"
      ],
      "metadata": {
        "colab": {
          "base_uri": "https://localhost:8080/"
        },
        "id": "kHy_6qFuHjZ4",
        "outputId": "642def96-39c7-4857-ea77-4ba167232ae1"
      },
      "execution_count": null,
      "outputs": [
        {
          "output_type": "stream",
          "name": "stdout",
          "text": [
            "venta realizad: 1 x Iphone12\n"
          ]
        }
      ]
    },
    {
      "cell_type": "code",
      "source": [
        "# mostrar las ventas\n",
        "tienda.mostrar_ventas()"
      ],
      "metadata": {
        "colab": {
          "base_uri": "https://localhost:8080/"
        },
        "id": "zt1H2eUdHmkY",
        "outputId": "fe23be26-01c2-4295-f0f4-ba0576b57f55"
      },
      "execution_count": null,
      "outputs": [
        {
          "output_type": "stream",
          "name": "stdout",
          "text": [
            "Ventas de ElectroTech:\n",
            "2 x Smartphone-$SmartphoneSmartphone\n",
            "1 x Iphone12-$Iphone12\n"
          ]
        }
      ]
    },
    {
      "cell_type": "markdown",
      "source": [
        "# 7. Métodos Especiales (Dunder Methods)"
      ],
      "metadata": {
        "id": "ek0IDTyrzi1P"
      }
    },
    {
      "cell_type": "markdown",
      "source": [
        "Los métodos especiales, también conocidos como métodos dunder (double underscore), permiten definir comportamientos especiales para las clases."
      ],
      "metadata": {
        "id": "TqCgaMPZzlzr"
      }
    },
    {
      "cell_type": "code",
      "source": [
        "# actualizar nuevamente la clase producto\n",
        "class Producto:\n",
        "    \"\"\"\n",
        "    Clase que representa un producto en la tienda electrónica.\n",
        "\n",
        "    Esta version demuestra la encapsulacion completa de atributos\n",
        "    \"\"\"\n",
        "\n",
        "    def __init__(self, nombre, precio, costo):\n",
        "        # atributos privados\n",
        "        self.__nombre = nombre\n",
        "        self.__precio = precio\n",
        "        self.__costo = costo\n",
        "\n",
        "    @property\n",
        "    def nombre(self):\n",
        "        \"\"\"\n",
        "        Decorador @property: convierte el metodo en una propiedad de solo elctura\n",
        "                            Permite acceder al atributo privado __nombre como si fuera publico\n",
        "\n",
        "        Obtiene el nombre del producto.\n",
        "\n",
        "        Returns:\n",
        "            str: Nombre del producto.\n",
        "        \"\"\"\n",
        "        return self.__nombre\n",
        "\n",
        "    @nombre.setter\n",
        "    def nombre(self, nuevo_nombre):\n",
        "        \"\"\"\n",
        "        Decorador @nombre.setter: convierte el metodo en un setter para el atributo privado __nombre\n",
        "        permite asignar un valor al atributo privado __nombre, como si fuese publico\n",
        "\n",
        "        Establece el nombre del producto.\n",
        "\n",
        "        Args:\n",
        "            nuevo_nombre (str): Nuevo nombre del producto.\n",
        "        \"\"\"\n",
        "        if isinstance(nuevo_nombre, str) and nuevo_nombre.strip():\n",
        "            self.__nombre = nuevo_nombre\n",
        "        else:\n",
        "            raise ValueError(\"El nombre debe ser una cadena no vacia\")\n",
        "\n",
        "    @property\n",
        "    def precio(self):\n",
        "\n",
        "        return self.__precio\n",
        "\n",
        "    @nombre.setter\n",
        "    def precio(self, nuevo_precio):\n",
        "        if isinstance(nuevo_precio, (int, float)) and nuevo_precio>0:\n",
        "            self.__precio = nuevo_precio\n",
        "        else:\n",
        "            raise ValueError(\"El precio debe ser un valor positivo\")\n",
        "\n",
        "    def mostrar_info(self):\n",
        "        \"\"\"\n",
        "        Muestra la informacion basica del producto.\n",
        "        \"\"\"\n",
        "        print(f\"Nombre: {self.__nombre}, Precio: ${self.__precio}\")\n",
        "\n",
        "    def _calcular_margen(self):\n",
        "        \"\"\"\n",
        "        Metodo protegido para calcular el margen de ganancia\n",
        "\n",
        "        se usa con _nombre_metodo para indicar que es de uso interno\n",
        "        \"\"\"\n",
        "\n",
        "        return self.__precio - self.__costo\n",
        "\n",
        "    def obtener_margen(self):\n",
        "        \"\"\"\n",
        "        Metodo publico para obtener el margen de ganancia\n",
        "        \"\"\"\n",
        "        return self._calcular_margen()\n",
        "\n",
        "\n",
        "    def __str__(self):\n",
        "        \"\"\"\n",
        "        representacion en string del producto\n",
        "        este metodo ses llamado cuando se usa str(objeto) o print(objeto)\n",
        "\n",
        "        Returns:\n",
        "            str: representacion en string del producto\n",
        "        \"\"\"\n",
        "        return f\"Nombre: {self.__nombre}, Precio: ${self.__precio}\"\n",
        "\n",
        "    def __repr__(self):\n",
        "        \"\"\"\n",
        "        representacion oficial en string del producto\n",
        "\n",
        "        este metodo es llamado cuando se us repr(objeto) o cuando se muestra\n",
        "        el objeto en una sesion interactiva de python\n",
        "\n",
        "        debe proporcionar una representacion que, idealmente, prodria usarse\n",
        "        recrear el objeto\n",
        "        Returns:\n",
        "            str: representacion oficial en string del producto\n",
        "        \"\"\"\n",
        "        return f\"Producto('{self.__nombre}', {self.__precio}, {self.__costo})\"\n",
        "\n",
        "    def __eq__(self, otro):\n",
        "        \"\"\"\n",
        "        Compara si dos productos son iguales basandose en su nombre y precio.\n",
        "        este metodo es llamado cuando se usa el operador == entre dos objetos\n",
        "\n",
        "        Args:\n",
        "            otro (Producto): Producto a comparar\n",
        "\n",
        "        Returns:\n",
        "            bool: True si los productos son iguales, False en caso contrario\n",
        "        \"\"\"\n",
        "        if isinstance(otro, Producto):\n",
        "            return self.__nombre == otro.__nombre and self.__precio == otro.__precio\n",
        "        return False\n",
        "\n",
        "    def __lt__(self, otro):\n",
        "        \"\"\"\n",
        "        Compara si un producto es menor que otro basandose en su precio.\n",
        "        este metodo es llamado cuando se usa el operador < entre dos objetos\n",
        "\n",
        "        Args:\n",
        "            otro (Producto): Producto a comparar\n",
        "\n",
        "        Returns:\n",
        "            bool: True si el producto es menor que el otro, False en caso contrario\n",
        "        \"\"\"\n",
        "\n",
        "        if isinstance(otro, Producto):\n",
        "            return self.__precio < otro.__precio\n",
        "        return False"
      ],
      "metadata": {
        "id": "eIVO4q3Lzl8t"
      },
      "execution_count": null,
      "outputs": []
    },
    {
      "cell_type": "code",
      "source": [
        "p1 = Producto(\"Teclado\", 1000, 500)\n",
        "p2 = Producto(\"Mouse\", 1800, 500)\n",
        "p3 = Producto(\"Teclado\", 1000, 500)"
      ],
      "metadata": {
        "id": "z6UQ36miMg1a"
      },
      "execution_count": null,
      "outputs": []
    },
    {
      "cell_type": "code",
      "source": [
        "print(p1)  # usamos __str__"
      ],
      "metadata": {
        "colab": {
          "base_uri": "https://localhost:8080/"
        },
        "id": "zQ0duWYEMuNF",
        "outputId": "0d83cf1b-2d61-468e-a81c-c04250dd45e4"
      },
      "execution_count": null,
      "outputs": [
        {
          "output_type": "stream",
          "name": "stdout",
          "text": [
            "Nombre: Teclado, Precio: $1000\n"
          ]
        }
      ]
    },
    {
      "cell_type": "code",
      "source": [
        "print(repr(p2))  # usamos  __repr__"
      ],
      "metadata": {
        "colab": {
          "base_uri": "https://localhost:8080/"
        },
        "id": "k0rVKu0KM0-f",
        "outputId": "aea06077-5f25-4631-fba4-619a53f1199a"
      },
      "execution_count": null,
      "outputs": [
        {
          "output_type": "stream",
          "name": "stdout",
          "text": [
            "Producto('Mouse', 1000, 500)\n"
          ]
        }
      ]
    },
    {
      "cell_type": "code",
      "source": [
        "print(p1==p3)   # usamos  __eq__"
      ],
      "metadata": {
        "colab": {
          "base_uri": "https://localhost:8080/"
        },
        "id": "bV_PihWJM1Ds",
        "outputId": "6adc8dc4-8714-4bd7-9696-44bfe31c4e54"
      },
      "execution_count": null,
      "outputs": [
        {
          "output_type": "stream",
          "name": "stdout",
          "text": [
            "True\n"
          ]
        }
      ]
    },
    {
      "cell_type": "code",
      "source": [
        "print(p1==p2)   # usamos  __eq__"
      ],
      "metadata": {
        "colab": {
          "base_uri": "https://localhost:8080/"
        },
        "id": "tpAfnD7nM1LJ",
        "outputId": "91999230-2f3a-4426-b3ed-3403123cfacd"
      },
      "execution_count": null,
      "outputs": [
        {
          "output_type": "stream",
          "name": "stdout",
          "text": [
            "False\n"
          ]
        }
      ]
    },
    {
      "cell_type": "code",
      "source": [
        "print(p1<p2)  # usamos __lt__"
      ],
      "metadata": {
        "colab": {
          "base_uri": "https://localhost:8080/"
        },
        "id": "BUexGtaQNKVe",
        "outputId": "5ddde1f0-f423-49a0-96c8-8fe92315581f"
      },
      "execution_count": null,
      "outputs": [
        {
          "output_type": "stream",
          "name": "stdout",
          "text": [
            "True\n"
          ]
        }
      ]
    },
    {
      "cell_type": "markdown",
      "source": [
        "~~~bash\n",
        "\n",
        "tienda_electronica/\n",
        "|\n",
        "|- __init__.py\n",
        "|- producto.py\n",
        "|- electronico.py\n",
        "|- inventario.py\n",
        "|- tienda.py\n",
        "|- main.py\n",
        "~~~"
      ],
      "metadata": {
        "id": "5yusbGN1Naxr"
      }
    },
    {
      "cell_type": "code",
      "source": [
        "from tienda_electronica import Producto, Electronico, Inventario, Tienda, Smartphone\n",
        "\n",
        "def main():\n",
        "    # creamos una tienda\n",
        "    mi_tienda = Tienda(\"ElectroINEI\")\n",
        "\n",
        "    # agregamos productos al inventario\n",
        "    mi_tienda.agregar_producto(Producto(\"Smartphone\", 800, 400))\n",
        "    mi_tienda.agregar_producto(Electronico(\"Tablet\", 300.00, 150, \"TabletCo\"))\n",
        "    mi_tienda.agregar_producto(Smartphone(\"Iphone12\", 999.99,600, \"Apple\",3000,\"ios\"))\n",
        "\n",
        "    # mostrar inventario\n",
        "    print(\"Inventario inicial\")\n",
        "    mi_tienda.inventario.mostrar_inventario()\n",
        "\n",
        "    # realizamos algunas ventas\n",
        "    print(\"\\nVentas realizadas\")\n",
        "    mi_tienda.realizar_venta(mi_tienda.inventario.productos[0], 2)\n",
        "    mi_tienda.realizar_venta(mi_tienda.inventario.productos[2], 1)\n",
        "\n",
        "    # mostrar las ventas\n",
        "    print(\"\\nVentas realizadas\")\n",
        "    mi_tienda.mostrar_ventas()\n",
        "\n",
        "    # mostrar inventario actualizado\n",
        "    print(\"\\nInventario actualizado\")\n",
        "    mi_tienda.inventario.mostrar_inventario()\n",
        "\n",
        "if __name__ == \"__main__\":\n",
        "    main()"
      ],
      "metadata": {
        "colab": {
          "base_uri": "https://localhost:8080/"
        },
        "id": "K13vKsUQQfPY",
        "outputId": "4b80a789-e9cb-47f8-8d30-dc9eec843860"
      },
      "execution_count": null,
      "outputs": [
        {
          "output_type": "stream",
          "name": "stdout",
          "text": [
            "Se agrego el producto Smartphone al inventario\n",
            "Nombre: Smartphone, Precio: $800\n",
            "Se agrego el producto Tablet al inventario\n",
            "Nombre: Tablet, Precio: $300.0\n",
            "Marca: TabletCo\n",
            "Se agrego el producto Iphone12 al inventario\n",
            "Nombre: Iphone12, Precio: $999.99\n",
            "Marca: Apple\n",
            "Capacidad de bateria: 3000 mAh\n",
            "None\n",
            "Sistema Operativo: ios\n",
            "Inventario inicial\n",
            "Inventario actual:\n",
            "Nombre: Smartphone, Precio: $800\n",
            "----\n",
            "Nombre: Tablet, Precio: $300.0\n",
            "Marca: TabletCo\n",
            "----\n",
            "Nombre: Iphone12, Precio: $999.99\n",
            "Marca: Apple\n",
            "Capacidad de bateria: 3000 mAh\n",
            "None\n",
            "Sistema Operativo: ios\n",
            "----\n",
            "\n",
            "Ventas realizadas\n",
            "venta realizad: 2 x Smartphone\n",
            "venta realizad: 1 x Iphone12\n",
            "\n",
            "Ventas realizadas\n",
            "Ventas de ElectroINEI:\n",
            "2 x Smartphone-$SmartphoneSmartphone\n",
            "1 x Iphone12-$Iphone12\n",
            "\n",
            "Inventario actualizado\n",
            "Inventario actual:\n",
            "Nombre: Smartphone, Precio: $800\n",
            "----\n",
            "Nombre: Tablet, Precio: $300.0\n",
            "Marca: TabletCo\n",
            "----\n",
            "Nombre: Iphone12, Precio: $999.99\n",
            "Marca: Apple\n",
            "Capacidad de bateria: 3000 mAh\n",
            "None\n",
            "Sistema Operativo: ios\n",
            "----\n"
          ]
        }
      ]
    },
    {
      "cell_type": "code",
      "source": [],
      "metadata": {
        "id": "zVPtB9QdRCca"
      },
      "execution_count": null,
      "outputs": []
    }
  ]
}